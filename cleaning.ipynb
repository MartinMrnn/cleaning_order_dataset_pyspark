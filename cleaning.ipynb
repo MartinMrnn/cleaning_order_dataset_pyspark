{
 "cells": [
  {
   "cell_type": "markdown",
   "id": "85ff68bd",
   "metadata": {},
   "source": [
    "# 1. Initialiser Spark"
   ]
  },
  {
   "cell_type": "code",
   "execution_count": 2,
   "id": "9ba53422",
   "metadata": {},
   "outputs": [],
   "source": [
    "from pyspark.sql import SparkSession\n",
    "from pyspark.sql.functions import *\n",
    "from pyspark.sql.types import *\n",
    "\n",
    "spark = SparkSession.builder \\\n",
    "    .appName(\"DatasetAnalysis\") \\\n",
    "    .config(\"spark.sql.adaptive.enabled\", \"true\") \\\n",
    "    .getOrCreate()"
   ]
  },
  {
   "cell_type": "markdown",
   "id": "f6dc946a",
   "metadata": {},
   "source": [
    "### Affichage des premières lignes"
   ]
  },
  {
   "cell_type": "code",
   "execution_count": 4,
   "id": "2fb15f12",
   "metadata": {},
   "outputs": [
    {
     "name": "stderr",
     "output_type": "stream",
     "text": [
      "                                                                                \r"
     ]
    },
    {
     "data": {
      "text/html": [
       "<div>\n",
       "<style scoped>\n",
       "    .dataframe tbody tr th:only-of-type {\n",
       "        vertical-align: middle;\n",
       "    }\n",
       "\n",
       "    .dataframe tbody tr th {\n",
       "        vertical-align: top;\n",
       "    }\n",
       "\n",
       "    .dataframe thead th {\n",
       "        text-align: right;\n",
       "    }\n",
       "</style>\n",
       "<table border=\"1\" class=\"dataframe\">\n",
       "  <thead>\n",
       "    <tr style=\"text-align: right;\">\n",
       "      <th></th>\n",
       "      <th>order_date</th>\n",
       "      <th>order_id</th>\n",
       "      <th>product</th>\n",
       "      <th>product_id</th>\n",
       "      <th>category</th>\n",
       "      <th>purchase_address</th>\n",
       "      <th>quantity_ordered</th>\n",
       "      <th>price_each</th>\n",
       "      <th>cost_price</th>\n",
       "      <th>turnover</th>\n",
       "      <th>margin</th>\n",
       "    </tr>\n",
       "  </thead>\n",
       "  <tbody>\n",
       "    <tr>\n",
       "      <th>0</th>\n",
       "      <td>2023-01-22 21:25:00</td>\n",
       "      <td>141234</td>\n",
       "      <td>iPhone</td>\n",
       "      <td>5.638009e+12</td>\n",
       "      <td>Vêtements</td>\n",
       "      <td>944 Walnut St, Boston, MA 02215</td>\n",
       "      <td>1</td>\n",
       "      <td>700.00</td>\n",
       "      <td>231.0000</td>\n",
       "      <td>700.00</td>\n",
       "      <td>469.0000</td>\n",
       "    </tr>\n",
       "    <tr>\n",
       "      <th>1</th>\n",
       "      <td>2023-01-28 14:15:00</td>\n",
       "      <td>141235</td>\n",
       "      <td>Lightning Charging Cable</td>\n",
       "      <td>5.563320e+12</td>\n",
       "      <td>Alimentation</td>\n",
       "      <td>185 Maple St, Portland, OR 97035</td>\n",
       "      <td>1</td>\n",
       "      <td>14.95</td>\n",
       "      <td>7.4750</td>\n",
       "      <td>14.95</td>\n",
       "      <td>7.4750</td>\n",
       "    </tr>\n",
       "    <tr>\n",
       "      <th>2</th>\n",
       "      <td>2023-01-17 13:33:00</td>\n",
       "      <td>141236</td>\n",
       "      <td>Wired Headphones</td>\n",
       "      <td>2.113973e+12</td>\n",
       "      <td>Vêtements</td>\n",
       "      <td>538 Adams St, San Francisco, CA 94016</td>\n",
       "      <td>2</td>\n",
       "      <td>11.99</td>\n",
       "      <td>5.9950</td>\n",
       "      <td>23.98</td>\n",
       "      <td>11.9900</td>\n",
       "    </tr>\n",
       "    <tr>\n",
       "      <th>3</th>\n",
       "      <td>2023-01-05 20:33:00</td>\n",
       "      <td>141237</td>\n",
       "      <td>27in FHD Monitor</td>\n",
       "      <td>3.069157e+12</td>\n",
       "      <td>Sports</td>\n",
       "      <td>738 10th St, Los Angeles, CA 90001</td>\n",
       "      <td>1</td>\n",
       "      <td>149.99</td>\n",
       "      <td>97.4935</td>\n",
       "      <td>149.99</td>\n",
       "      <td>52.4965</td>\n",
       "    </tr>\n",
       "    <tr>\n",
       "      <th>4</th>\n",
       "      <td>2023-01-25 11:59:00</td>\n",
       "      <td>141238</td>\n",
       "      <td>Wired Headphones</td>\n",
       "      <td>9.692681e+12</td>\n",
       "      <td>Électronique</td>\n",
       "      <td>387 10th St, Austin, TX 73301</td>\n",
       "      <td>1</td>\n",
       "      <td>11.99</td>\n",
       "      <td>5.9950</td>\n",
       "      <td>11.99</td>\n",
       "      <td>5.9950</td>\n",
       "    </tr>\n",
       "  </tbody>\n",
       "</table>\n",
       "</div>"
      ],
      "text/plain": [
       "           order_date  order_id                   product    product_id  \\\n",
       "0 2023-01-22 21:25:00    141234                    iPhone  5.638009e+12   \n",
       "1 2023-01-28 14:15:00    141235  Lightning Charging Cable  5.563320e+12   \n",
       "2 2023-01-17 13:33:00    141236          Wired Headphones  2.113973e+12   \n",
       "3 2023-01-05 20:33:00    141237          27in FHD Monitor  3.069157e+12   \n",
       "4 2023-01-25 11:59:00    141238          Wired Headphones  9.692681e+12   \n",
       "\n",
       "       category                       purchase_address  quantity_ordered  \\\n",
       "0     Vêtements        944 Walnut St, Boston, MA 02215                 1   \n",
       "1  Alimentation       185 Maple St, Portland, OR 97035                 1   \n",
       "2     Vêtements  538 Adams St, San Francisco, CA 94016                 2   \n",
       "3        Sports     738 10th St, Los Angeles, CA 90001                 1   \n",
       "4  Électronique          387 10th St, Austin, TX 73301                 1   \n",
       "\n",
       "   price_each  cost_price  turnover    margin  \n",
       "0      700.00    231.0000    700.00  469.0000  \n",
       "1       14.95      7.4750     14.95    7.4750  \n",
       "2       11.99      5.9950     23.98   11.9900  \n",
       "3      149.99     97.4935    149.99   52.4965  \n",
       "4       11.99      5.9950     11.99    5.9950  "
      ]
     },
     "execution_count": 4,
     "metadata": {},
     "output_type": "execute_result"
    }
   ],
   "source": [
    "orders_data = spark.read.parquet('orders_data.parquet')\n",
    "orders_data.toPandas().head()"
   ]
  },
  {
   "cell_type": "markdown",
   "id": "f2a8508d",
   "metadata": {},
   "source": [
    "### Explorer la structure des données"
   ]
  },
  {
   "cell_type": "code",
   "execution_count": 5,
   "id": "87fffe99",
   "metadata": {},
   "outputs": [
    {
     "name": "stdout",
     "output_type": "stream",
     "text": [
      "root\n",
      " |-- order_date: timestamp_ntz (nullable = true)\n",
      " |-- order_id: long (nullable = true)\n",
      " |-- product: string (nullable = true)\n",
      " |-- product_id: double (nullable = true)\n",
      " |-- category: string (nullable = true)\n",
      " |-- purchase_address: string (nullable = true)\n",
      " |-- quantity_ordered: long (nullable = true)\n",
      " |-- price_each: double (nullable = true)\n",
      " |-- cost_price: double (nullable = true)\n",
      " |-- turnover: double (nullable = true)\n",
      " |-- margin: double (nullable = true)\n",
      "\n",
      "Nombre de lignes: 185950\n",
      "Nombre de colonnes: 11\n",
      "Colonnes: ['order_date', 'order_id', 'product', 'product_id', 'category', 'purchase_address', 'quantity_ordered', 'price_each', 'cost_price', 'turnover', 'margin']\n"
     ]
    }
   ],
   "source": [
    "# Voir le schéma et les types de données\n",
    "orders_data.printSchema()\n",
    "\n",
    "# Voir les dimensions\n",
    "print(f\"Nombre de lignes: {orders_data.count()}\")\n",
    "print(f\"Nombre de colonnes: {len(orders_data.columns)}\")\n",
    "\n",
    "# Afficher les noms des colonnes\n",
    "print(\"Colonnes:\", orders_data.columns)"
   ]
  },
  {
   "cell_type": "markdown",
   "id": "4db8c0dd",
   "metadata": {},
   "source": [
    "### Statistiques descriptives"
   ]
  },
  {
   "cell_type": "code",
   "execution_count": 8,
   "id": "3adc5fb6",
   "metadata": {},
   "outputs": [
    {
     "name": "stderr",
     "output_type": "stream",
     "text": [
      "[Stage 18:=============================>                            (1 + 1) / 2]\r"
     ]
    },
    {
     "name": "stdout",
     "output_type": "stream",
     "text": [
      "+-------+-----------------+------------+--------------------+------------+--------------------+-------------------+------------------+------------------+------------------+------------------+\n",
      "|summary|         order_id|     product|          product_id|    category|    purchase_address|   quantity_ordered|        price_each|        cost_price|          turnover|            margin|\n",
      "+-------+-----------------+------------+--------------------+------------+--------------------+-------------------+------------------+------------------+------------------+------------------+\n",
      "|  count|           185950|      185950|              185950|      185950|              185950|             185950|            185950|            185950|            185950|            185950|\n",
      "|   mean|230417.5693788653|        NULL|5.509210670033572E12|        NULL|                NULL| 1.1243828986286637|184.39973476700638|  69.6685826527324|185.49091675145462|115.28942150794727|\n",
      "| stddev|51512.73710999486|        NULL|2.598402753473615...|        NULL|                NULL|0.44279262402867126| 332.7313298843418|109.42419086848261| 332.9197713864801| 225.2271896995873|\n",
      "|    min|           141234|20in Monitor|   1.000083307114E12|Alimentation|1 11th St, Atlant...|                  1|              2.99|             1.495|              2.99|             1.495|\n",
      "|    25%|           185814|        NULL|   3.253821889756E12|        NULL|                NULL|                  1|             11.95|             5.975|             11.95|             5.975|\n",
      "|    50%|           230349|        NULL|   5.510937281268E12|        NULL|                NULL|                  1|             14.95|             7.475|             14.95|             7.475|\n",
      "|    75%|           275027|        NULL|    7.76443822965E12|        NULL|                NULL|                  1|             150.0|              97.5|             150.0|              52.5|\n",
      "|    max|           319670|      iPhone|   9.999982523747E12|Électronique|999 Wilson St, Sa...|                  9|            1700.0|             561.0|            3400.0|            2278.0|\n",
      "+-------+-----------------+------------+--------------------+------------+--------------------+-------------------+------------------+------------------+------------------+------------------+\n",
      "\n"
     ]
    },
    {
     "name": "stderr",
     "output_type": "stream",
     "text": [
      "                                                                                \r"
     ]
    }
   ],
   "source": [
    "# Statistiques plus détaillées avec summary()\n",
    "orders_data.summary().show()"
   ]
  },
  {
   "cell_type": "markdown",
   "id": "610489e7",
   "metadata": {},
   "source": [
    "### Détecter les valeurs manquantes"
   ]
  },
  {
   "cell_type": "code",
   "execution_count": 10,
   "id": "b33f901f",
   "metadata": {},
   "outputs": [
    {
     "name": "stdout",
     "output_type": "stream",
     "text": [
      "+----------+--------+-------+----------+--------+----------------+----------------+----------+----------+--------+------+\n",
      "|order_date|order_id|product|product_id|category|purchase_address|quantity_ordered|price_each|cost_price|turnover|margin|\n",
      "+----------+--------+-------+----------+--------+----------------+----------------+----------+----------+--------+------+\n",
      "|         0|       0|      0|         0|       0|               0|               0|         0|         0|       0|     0|\n",
      "+----------+--------+-------+----------+--------+----------------+----------------+----------+----------+--------+------+\n",
      "\n",
      "+----------+--------+-------+----------+--------+----------------+----------------+----------+----------+--------+------+\n",
      "|order_date|order_id|product|product_id|category|purchase_address|quantity_ordered|price_each|cost_price|turnover|margin|\n",
      "+----------+--------+-------+----------+--------+----------------+----------------+----------+----------+--------+------+\n",
      "|       0.0|     0.0|    0.0|       0.0|     0.0|             0.0|             0.0|       0.0|       0.0|     0.0|   0.0|\n",
      "+----------+--------+-------+----------+--------+----------------+----------------+----------+----------+--------+------+\n",
      "\n"
     ]
    }
   ],
   "source": [
    "# Compter les valeurs nulles par colonne (version corrigée)\n",
    "from pyspark.sql.functions import col, sum, when, isnan, isnull\n",
    "\n",
    "# Obtenir les types de colonnes\n",
    "numeric_types = [\"int\", \"bigint\", \"float\", \"double\", \"decimal\"]\n",
    "string_date_types = [\"string\", \"timestamp\", \"date\"]\n",
    "\n",
    "# Fonction pour créer la condition appropriée selon le type\n",
    "def null_condition(column_name, data_type):\n",
    "    if any(t in data_type.lower() for t in numeric_types):\n",
    "        # Pour les colonnes numériques, vérifier null ET nan\n",
    "        return when(col(column_name).isNull() | isnan(col(column_name)), 1).otherwise(0)\n",
    "    else:\n",
    "        # Pour les autres types (string, date, etc.), seulement null\n",
    "        return when(col(column_name).isNull(), 1).otherwise(0)\n",
    "\n",
    "# Compter les valeurs nulles\n",
    "null_counts = orders_data.select([\n",
    "    sum(null_condition(c, dict(orders_data.dtypes)[c])).alias(c)\n",
    "    for c in orders_data.columns\n",
    "])\n",
    "null_counts.show()\n",
    "\n",
    "# Pourcentage de valeurs manquantes\n",
    "total_rows = orders_data.count()\n",
    "missing_percent = orders_data.select([\n",
    "    (sum(null_condition(c, dict(orders_data.dtypes)[c])) / total_rows * 100).alias(c)\n",
    "    for c in orders_data.columns\n",
    "])\n",
    "missing_percent.show()"
   ]
  },
  {
   "cell_type": "markdown",
   "id": "c07450e0",
   "metadata": {},
   "source": [
    "### Détecter les doublons"
   ]
  },
  {
   "cell_type": "code",
   "execution_count": 14,
   "id": "9b585835",
   "metadata": {},
   "outputs": [
    {
     "name": "stdout",
     "output_type": "stream",
     "text": [
      "Lignes uniques: 185950\n",
      "Doublons: 0\n"
     ]
    }
   ],
   "source": [
    "# Nombre total de doublons\n",
    "print(f\"Lignes uniques: {orders_data.distinct().count()}\")\n",
    "print(f\"Doublons: {orders_data.count() - orders_data.distinct().count()}\")"
   ]
  }
 ],
 "metadata": {
  "kernelspec": {
   "display_name": "venv",
   "language": "python",
   "name": "python3"
  },
  "language_info": {
   "codemirror_mode": {
    "name": "ipython",
    "version": 3
   },
   "file_extension": ".py",
   "mimetype": "text/x-python",
   "name": "python",
   "nbconvert_exporter": "python",
   "pygments_lexer": "ipython3",
   "version": "3.9.6"
  }
 },
 "nbformat": 4,
 "nbformat_minor": 5
}
